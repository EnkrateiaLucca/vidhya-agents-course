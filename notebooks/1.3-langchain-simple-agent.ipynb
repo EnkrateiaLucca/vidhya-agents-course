{
 "cells": [
  {
   "cell_type": "code",
   "execution_count": 1,
   "metadata": {},
   "outputs": [],
   "source": [
    "import warnings\n",
    "\n",
    "warnings.filterwarnings(\"ignore\")"
   ]
  },
  {
   "cell_type": "code",
   "execution_count": 2,
   "metadata": {},
   "outputs": [
    {
     "data": {
      "text/plain": [
       "ChatPromptTemplate(input_variables=['agent_scratchpad', 'input'], optional_variables=['chat_history'], input_types={'chat_history': typing.List[typing.Union[langchain_core.messages.ai.AIMessage, langchain_core.messages.human.HumanMessage, langchain_core.messages.chat.ChatMessage, langchain_core.messages.system.SystemMessage, langchain_core.messages.function.FunctionMessage, langchain_core.messages.tool.ToolMessage]], 'agent_scratchpad': typing.List[typing.Union[langchain_core.messages.ai.AIMessage, langchain_core.messages.human.HumanMessage, langchain_core.messages.chat.ChatMessage, langchain_core.messages.system.SystemMessage, langchain_core.messages.function.FunctionMessage, langchain_core.messages.tool.ToolMessage]]}, partial_variables={'chat_history': []}, metadata={'lc_hub_owner': 'hwchase17', 'lc_hub_repo': 'openai-tools-agent', 'lc_hub_commit_hash': 'c18672812789a3b9697656dd539edf0120285dcae36396d0b548ae42a4ed66f5'}, messages=[SystemMessagePromptTemplate(prompt=PromptTemplate(input_variables=[], template='You are a helpful assistant')), MessagesPlaceholder(variable_name='chat_history', optional=True), HumanMessagePromptTemplate(prompt=PromptTemplate(input_variables=['input'], template='{input}')), MessagesPlaceholder(variable_name='agent_scratchpad')])"
      ]
     },
     "execution_count": 2,
     "metadata": {},
     "output_type": "execute_result"
    }
   ],
   "source": [
    "from langchain import hub\n",
    "\n",
    "prompt_agent = hub.pull('hwchase17/openai-tools-agent')\n",
    "\n",
    "prompt_agent"
   ]
  },
  {
   "cell_type": "code",
   "execution_count": 3,
   "metadata": {},
   "outputs": [
    {
     "data": {
      "text/plain": [
       "AIMessage(content='Hello! How can I assist you today?', additional_kwargs={'refusal': None}, response_metadata={'token_usage': {'completion_tokens': 9, 'prompt_tokens': 8, 'total_tokens': 17}, 'model_name': 'gpt-4o-mini-2024-07-18', 'system_fingerprint': 'fp_f33667828e', 'finish_reason': 'stop', 'logprobs': None}, id='run-b6a6615c-2f91-4cb4-a5e2-e827305df2f7-0', usage_metadata={'input_tokens': 8, 'output_tokens': 9, 'total_tokens': 17})"
      ]
     },
     "execution_count": 3,
     "metadata": {},
     "output_type": "execute_result"
    }
   ],
   "source": [
    "from langchain_openai import ChatOpenAI\n",
    "\n",
    "llm = ChatOpenAI(model='gpt-4o-mini', temperature=0)\n",
    "\n",
    "llm.invoke(\"HI\")"
   ]
  },
  {
   "cell_type": "markdown",
   "metadata": {},
   "source": [
    "Agent = LLM + Tools"
   ]
  },
  {
   "cell_type": "code",
   "execution_count": 4,
   "metadata": {},
   "outputs": [
    {
     "data": {
      "text/plain": [
       "'1.0-langchain-basics.ipynb\\n1.1-langchain-simple-chains.ipynb\\n1.2-langchain-runnables-and-lcel.ipynb\\n1.3-langchain-simple-agent.ipynb\\n2.0-autogen-building-agents.ipynb\\n2.1-autogen-building-research-assistant.ipynb\\n3.0-langgraph-building-stateful-applications.ipynb\\n3.1-langgraph-buid-research-assistant.ipynb\\n4.0-rag-agent-langgraph.ipynb\\n4.1-autogen-multi-agent-research-workflows.ipynb\\nAutogen Demo Notebook.ipynb\\nOAI_CONFIG_LIST\\nTool Use.ipynb\\nagentic-rag-langgraph.ipynb\\n\\x1b[1m\\x1b[36massets-resources\\x1b[m\\x1b[m\\n\\x1b[1m\\x1b[36mdemo-notebooks\\x1b[m\\x1b[m\\nreport-olympics-2024.md\\n'"
      ]
     },
     "execution_count": 4,
     "metadata": {},
     "output_type": "execute_result"
    }
   ],
   "source": [
    "import subprocess\n",
    "from langchain_core.tools import tool\n",
    "\n",
    "\n",
    "@tool\n",
    "def list_files():\n",
    "    \"\"\"List files in current directory\"\"\"\n",
    "    return subprocess.run([\"ls\"], stdout=subprocess.PIPE).stdout.decode(\"utf-8\")\n",
    "\n",
    "\n",
    "list_files.invoke({\"input\": \"\"})"
   ]
  },
  {
   "cell_type": "code",
   "execution_count": 5,
   "metadata": {},
   "outputs": [
    {
     "data": {
      "text/plain": [
       "RunnableBinding(bound=ChatOpenAI(client=<openai.resources.chat.completions.Completions object at 0x11605cfd0>, async_client=<openai.resources.chat.completions.AsyncCompletions object at 0x116afb550>, root_client=<openai.OpenAI object at 0x11649f010>, root_async_client=<openai.AsyncOpenAI object at 0x116d1bd50>, model_name='gpt-4o-mini', temperature=0.0, openai_api_key=SecretStr('**********'), openai_api_base='https://api.openai.com/v1', openai_proxy=''), kwargs={'tools': [{'type': 'function', 'function': {'name': 'list_files', 'description': 'List files in current directory', 'parameters': {'type': 'object', 'properties': {}}}}]})"
      ]
     },
     "execution_count": 5,
     "metadata": {},
     "output_type": "execute_result"
    }
   ],
   "source": [
    "llm_with_tool = llm.bind_tools([list_files])\n",
    "\n",
    "llm_with_tool"
   ]
  },
  {
   "cell_type": "code",
   "execution_count": 6,
   "metadata": {},
   "outputs": [
    {
     "data": {
      "text/plain": [
       "AIMessage(content='', additional_kwargs={'tool_calls': [{'id': 'call_xdTc3oLiYznZGrDXjuIoIv1d', 'function': {'arguments': '{}', 'name': 'list_files'}, 'type': 'function'}], 'refusal': None}, response_metadata={'token_usage': {'completion_tokens': 10, 'prompt_tokens': 42, 'total_tokens': 52}, 'model_name': 'gpt-4o-mini-2024-07-18', 'system_fingerprint': 'fp_f33667828e', 'finish_reason': 'tool_calls', 'logprobs': None}, id='run-b573335b-3211-4eb7-ab8c-4ca21efc81db-0', tool_calls=[{'name': 'list_files', 'args': {}, 'id': 'call_xdTc3oLiYznZGrDXjuIoIv1d', 'type': 'tool_call'}], usage_metadata={'input_tokens': 42, 'output_tokens': 10, 'total_tokens': 52})"
      ]
     },
     "execution_count": 6,
     "metadata": {},
     "output_type": "execute_result"
    }
   ],
   "source": [
    "llm_with_tool.invoke(\"List files in current directory\")"
   ]
  },
  {
   "cell_type": "code",
   "execution_count": 7,
   "metadata": {},
   "outputs": [
    {
     "name": "stdout",
     "output_type": "stream",
     "text": [
      "1.0-langchain-basics.ipynb\n",
      "1.1-langchain-simple-chains.ipynb\n",
      "1.2-langchain-runnables-and-lcel.ipynb\n",
      "1.3-langchain-simple-agent.ipynb\n",
      "2.0-autogen-building-agents.ipynb\n",
      "2.1-autogen-building-research-assistant.ipynb\n",
      "3.0-langgraph-building-stateful-applications.ipynb\n",
      "3.1-langgraph-buid-research-assistant.ipynb\n",
      "4.0-rag-agent-langgraph.ipynb\n",
      "4.1-autogen-multi-agent-research-workflows.ipynb\n",
      "Autogen Demo Notebook.ipynb\n",
      "OAI_CONFIG_LIST\n",
      "Tool Use.ipynb\n",
      "agentic-rag-langgraph.ipynb\n",
      "\u001b[1m\u001b[36massets-resources\u001b[m\u001b[m\n",
      "\u001b[1m\u001b[36mdemo-notebooks\u001b[m\u001b[m\n",
      "report-olympics-2024.md\n",
      "\n"
     ]
    }
   ],
   "source": [
    "dictionary_with_tool_names = {\n",
    "    \"list_files\": list_files,\n",
    "}\n",
    "\n",
    "output = llm_with_tool.invoke(\"List files in current directory\")\n",
    "\n",
    "if output.tool_calls:\n",
    "    for tool_call in output.tool_calls:\n",
    "        tool_name = tool_call[\"name\"]\n",
    "        tool_args = tool_call['args']\n",
    "        tool_func = dictionary_with_tool_names[tool_name]\n",
    "        print(tool_func.invoke(tool_args))"
   ]
  },
  {
   "cell_type": "markdown",
   "metadata": {},
   "source": [
    "Agent = LLM + tools"
   ]
  },
  {
   "cell_type": "code",
   "execution_count": 8,
   "metadata": {},
   "outputs": [],
   "source": [
    "from langchain.agents import create_tool_calling_agent, AgentExecutor"
   ]
  },
  {
   "cell_type": "code",
   "execution_count": 10,
   "metadata": {},
   "outputs": [],
   "source": [
    "tools = [list_files]\n",
    "\n",
    "agent = create_tool_calling_agent(llm, tools, prompt_agent)\n",
    "agent_executor = AgentExecutor(agent=agent, tools=tools, verbose=True)"
   ]
  },
  {
   "cell_type": "code",
   "execution_count": 11,
   "metadata": {},
   "outputs": [
    {
     "name": "stdout",
     "output_type": "stream",
     "text": [
      "\n",
      "\n",
      "\u001b[1m> Entering new AgentExecutor chain...\u001b[0m\n",
      "\u001b[32;1m\u001b[1;3m\n",
      "Invoking: `list_files` with `{}`\n",
      "\n",
      "\n",
      "\u001b[0m\u001b[36;1m\u001b[1;3m1.0-langchain-basics.ipynb\n",
      "1.1-langchain-simple-chains.ipynb\n",
      "1.2-langchain-runnables-and-lcel.ipynb\n",
      "1.3-langchain-simple-agent.ipynb\n",
      "2.0-autogen-building-agents.ipynb\n",
      "2.1-autogen-building-research-assistant.ipynb\n",
      "3.0-langgraph-building-stateful-applications.ipynb\n",
      "3.1-langgraph-buid-research-assistant.ipynb\n",
      "4.0-rag-agent-langgraph.ipynb\n",
      "4.1-autogen-multi-agent-research-workflows.ipynb\n",
      "Autogen Demo Notebook.ipynb\n",
      "OAI_CONFIG_LIST\n",
      "Tool Use.ipynb\n",
      "agentic-rag-langgraph.ipynb\n",
      "\u001b[1m\u001b[36massets-resources\u001b[m\u001b[m\n",
      "\u001b[1m\u001b[36mdemo-notebooks\u001b[m\u001b[m\n",
      "report-olympics-2024.md\n",
      "\u001b[0m\u001b[32;1m\u001b[1;3mHere are the files in the current directory:\n",
      "\n",
      "1. 1.0-langchain-basics.ipynb\n",
      "2. 1.1-langchain-simple-chains.ipynb\n",
      "3. 1.2-langchain-runnables-and-lcel.ipynb\n",
      "4. 1.3-langchain-simple-agent.ipynb\n",
      "5. 2.0-autogen-building-agents.ipynb\n",
      "6. 2.1-autogen-building-research-assistant.ipynb\n",
      "7. 3.0-langgraph-building-stateful-applications.ipynb\n",
      "8. 3.1-langgraph-buid-research-assistant.ipynb\n",
      "9. 4.0-rag-agent-langgraph.ipynb\n",
      "10. 4.1-autogen-multi-agent-research-workflows.ipynb\n",
      "11. Autogen Demo Notebook.ipynb\n",
      "12. OAI_CONFIG_LIST\n",
      "13. Tool Use.ipynb\n",
      "14. agentic-rag-langgraph.ipynb\n",
      "15. assets-resources (directory)\n",
      "16. demo-notebooks (directory)\n",
      "17. report-olympics-2024.md\u001b[0m\n",
      "\n",
      "\u001b[1m> Finished chain.\u001b[0m\n"
     ]
    },
    {
     "data": {
      "text/plain": [
       "{'input': 'List files in current directory',\n",
       " 'output': 'Here are the files in the current directory:\\n\\n1. 1.0-langchain-basics.ipynb\\n2. 1.1-langchain-simple-chains.ipynb\\n3. 1.2-langchain-runnables-and-lcel.ipynb\\n4. 1.3-langchain-simple-agent.ipynb\\n5. 2.0-autogen-building-agents.ipynb\\n6. 2.1-autogen-building-research-assistant.ipynb\\n7. 3.0-langgraph-building-stateful-applications.ipynb\\n8. 3.1-langgraph-buid-research-assistant.ipynb\\n9. 4.0-rag-agent-langgraph.ipynb\\n10. 4.1-autogen-multi-agent-research-workflows.ipynb\\n11. Autogen Demo Notebook.ipynb\\n12. OAI_CONFIG_LIST\\n13. Tool Use.ipynb\\n14. agentic-rag-langgraph.ipynb\\n15. assets-resources (directory)\\n16. demo-notebooks (directory)\\n17. report-olympics-2024.md'}"
      ]
     },
     "execution_count": 11,
     "metadata": {},
     "output_type": "execute_result"
    }
   ],
   "source": [
    "agent_executor.invoke({'input': \"List files in current directory\"})"
   ]
  },
  {
   "cell_type": "code",
   "execution_count": 12,
   "metadata": {},
   "outputs": [
    {
     "name": "stdout",
     "output_type": "stream",
     "text": [
      "\n",
      "\n",
      "\u001b[1m> Entering new AgentExecutor chain...\u001b[0m\n",
      "\u001b[32;1m\u001b[1;3m\n",
      "Invoking: `list_files` with `{}`\n",
      "\n",
      "\n",
      "\u001b[0m\u001b[36;1m\u001b[1;3m1.0-langchain-basics.ipynb\n",
      "1.1-langchain-simple-chains.ipynb\n",
      "1.2-langchain-runnables-and-lcel.ipynb\n",
      "1.3-langchain-simple-agent.ipynb\n",
      "2.0-autogen-building-agents.ipynb\n",
      "2.1-autogen-building-research-assistant.ipynb\n",
      "3.0-langgraph-building-stateful-applications.ipynb\n",
      "3.1-langgraph-buid-research-assistant.ipynb\n",
      "4.0-rag-agent-langgraph.ipynb\n",
      "4.1-autogen-multi-agent-research-workflows.ipynb\n",
      "Autogen Demo Notebook.ipynb\n",
      "OAI_CONFIG_LIST\n",
      "Tool Use.ipynb\n",
      "agentic-rag-langgraph.ipynb\n",
      "\u001b[1m\u001b[36massets-resources\u001b[m\u001b[m\n",
      "\u001b[1m\u001b[36mdemo-notebooks\u001b[m\u001b[m\n",
      "report-olympics-2024.md\n",
      "\u001b[0m\u001b[32;1m\u001b[1;3mThe current directory contains the following files:\n",
      "\n",
      "1. Jupyter Notebooks (.ipynb):\n",
      "   - 1.0-langchain-basics.ipynb\n",
      "   - 1.1-langchain-simple-chains.ipynb\n",
      "   - 1.2-langchain-runnables-and-lcel.ipynb\n",
      "   - 1.3-langchain-simple-agent.ipynb\n",
      "   - 2.0-autogen-building-agents.ipynb\n",
      "   - 2.1-autogen-building-research-assistant.ipynb\n",
      "   - 3.0-langgraph-building-stateful-applications.ipynb\n",
      "   - 3.1-langgraph-buid-research-assistant.ipynb\n",
      "   - 4.0-rag-agent-langgraph.ipynb\n",
      "   - 4.1-autogen-multi-agent-research-workflows.ipynb\n",
      "   - Autogen Demo Notebook.ipynb\n",
      "   - Tool Use.ipynb\n",
      "   - agentic-rag-langgraph.ipynb\n",
      "\n",
      "2. Other files:\n",
      "   - OAI_CONFIG_LIST\n",
      "   - report-olympics-2024.md\n",
      "\n",
      "3. Directories:\n",
      "   - assets-resources\n",
      "   - demo-notebooks\u001b[0m\n",
      "\n",
      "\u001b[1m> Finished chain.\u001b[0m\n"
     ]
    },
    {
     "data": {
      "text/plain": [
       "{'input': 'What kind of files are in the current directory?',\n",
       " 'output': 'The current directory contains the following files:\\n\\n1. Jupyter Notebooks (.ipynb):\\n   - 1.0-langchain-basics.ipynb\\n   - 1.1-langchain-simple-chains.ipynb\\n   - 1.2-langchain-runnables-and-lcel.ipynb\\n   - 1.3-langchain-simple-agent.ipynb\\n   - 2.0-autogen-building-agents.ipynb\\n   - 2.1-autogen-building-research-assistant.ipynb\\n   - 3.0-langgraph-building-stateful-applications.ipynb\\n   - 3.1-langgraph-buid-research-assistant.ipynb\\n   - 4.0-rag-agent-langgraph.ipynb\\n   - 4.1-autogen-multi-agent-research-workflows.ipynb\\n   - Autogen Demo Notebook.ipynb\\n   - Tool Use.ipynb\\n   - agentic-rag-langgraph.ipynb\\n\\n2. Other files:\\n   - OAI_CONFIG_LIST\\n   - report-olympics-2024.md\\n\\n3. Directories:\\n   - assets-resources\\n   - demo-notebooks'}"
      ]
     },
     "execution_count": 12,
     "metadata": {},
     "output_type": "execute_result"
    }
   ],
   "source": [
    "agent_executor.invoke({'input': \"What kind of files are in the current directory?\"})"
   ]
  },
  {
   "cell_type": "code",
   "execution_count": null,
   "metadata": {},
   "outputs": [],
   "source": [
    "import os\n",
    "\n",
    "os.environ[\"TAVILY_API_KEY\"] = 'YOUR TAVILY API KEY'"
   ]
  },
  {
   "cell_type": "code",
   "execution_count": 14,
   "metadata": {},
   "outputs": [],
   "source": [
    "from langchain_community.tools import TavilySearchResults"
   ]
  },
  {
   "cell_type": "code",
   "execution_count": 15,
   "metadata": {},
   "outputs": [
    {
     "data": {
      "text/plain": [
       "[{'url': 'https://www.britannica.com/facts/Paris',\n",
       "  'content': 'Paris is the capital of France, located in the north-central part of the country. It is a major centre of commerce, culture, and tourism, with famous landmarks such as the Eiffel Tower, the Louvre Museum, and Notre-Dame de Paris.'},\n",
       " {'url': 'https://simple.wikipedia.org/wiki/Capital_of_France',\n",
       "  'content': 'Learn about the history and current status of the capital of France, which is Paris. Find out which other cities have been the national capital in different periods of time.'},\n",
       " {'url': 'https://simple.wikipedia.org/wiki/Paris',\n",
       "  'content': 'Events[change | change source]\\nRelated pages[change | change source]\\nReferences[change | change source]\\nOther websites[change | change source]\\nAmsterdam, Netherlands\\xa0·\\nAthens, Greece\\xa0·\\nBerlin, Germany\\xa0·\\nBratislava, Slovakia\\xa0·\\nBrussels, Belgium\\xa0·\\nBucharest, Romania\\xa0·\\nBudapest, Hungary\\xa0·\\nCopenhagen, Denmark\\xa0·\\nDublin, Republic of Ireland\\xa0·\\nHelsinki, Finland\\xa0·\\nLisbon, Portugal\\xa0·\\nLjubljana, Slovenia\\xa0·\\nLuxembourg City, Luxembourg\\xa0·\\nMadrid, Spain\\xa0·\\nNicosia, Cyprus1\\xa0·\\nParis, France\\xa0·\\nPrague, Czech Republic\\xa0·\\nRiga, Latvia\\xa0·\\nRome, Italy\\xa0·\\nSofia, Bulgaria\\xa0·\\nStockholm, Sweden\\xa0·\\nTallinn, Estonia\\xa0·\\nValletta, Malta\\xa0·\\nVienna, Austria\\xa0·\\nVilnius, Lithuania\\xa0·\\nWarsaw, Poland\\xa0·\\nZagreb, Croatia\\nAndorra la Vella, Andorra\\xa0·\\nAnkara, Turkey1\\xa0·\\nBelgrade, Serbia\\xa0·\\nBern, Switzerland\\xa0·\\nChişinău, Moldova\\xa0·\\nKyiv, Ukraine\\xa0·\\nLondon, United Kingdom\\xa0·\\nMinsk, Belarus\\xa0·\\nMonaco-Ville, Monaco\\xa0·\\nMoscow, Russia1\\xa0·\\nOslo, Norway\\xa0·\\nPodgorica, Montenegro\\xa0·\\nReykjavík, Iceland\\xa0·\\nSan Marino, San Marino\\xa0·\\nSarajevo, Bosnia Herzegovina\\xa0·\\nSkopje, North Macedonia\\xa0·\\nTbilisi, Georgia1\\xa0·\\nTirana, Albania\\xa0· The place got a shorter name, \"Paris\", in 212 AD.[7]\\nAs the Roman Empire began to fall apart in the West, the Germanic tribe called the Franks moved in, taking it in 464. Also, the city has been featured in many songs including the #1 hit song by Jay-Z and Kanye West called \"Niggas in Paris\".[8]\\nClimate[change | change source]\\nParis has an oceanic climate in the Köppen climate classification. Contents\\nParis\\nParis (nicknamed the \"City of light\") is the capital city of France, and the largest city in France. For a long time, the kings only controlled Paris and the surrounding area, as much of the rest of France was in the hands of barons or English.'},\n",
       " {'url': 'https://www.worldatlas.com/articles/what-is-the-capital-of-france.html',\n",
       "  'content': 'Geography and Climate\\nLocated in the north of Central France, the city is relatively flat with the highest point being 427 feet (which is Montmartre) above sea level while the lowest point is 115 feet above the sea level. Even the official residence of the president is in the city at the Élysée Palace while the Prime Minister is housed at the Hôtel Matignon. Sometimes, the city is called the City of Light for two reasons; it was among the first cities to adopt gas for lighting the streets and its role during the Age of Enlightenment.\\n The Senate or the upper house meets at the Palais du Luxembourg while the Palais Bourbon is the meeting point for the Assemblée Nationale. Others include the likes of the National Museum of Natural History, the Centre Pompidou, the Basilique du Sacré-Cœur, the Eiffel Tower, and many more.\\n'},\n",
       " {'url': 'https://www.britannica.com/place/France',\n",
       "  'content': 'Even though its imperialist stage was driven by the impulse to civilize that world according to French standards (la mission civilisatrice), the French still note approvingly the words of writer Gustave Flaubert:\\nI am no more modern than I am ancient, no more French than Chinese; and the idea of la patrie, the fatherland—that is, the obligation to live on a bit of earth coloured red or blue on a map, and to detest the other bits coloured green or black—has always seemed to me narrow, restricted, and ferociously stupid.\\n Among France’s other major cities are Lyon, located along an ancient Rhône valley trade route linking the North Sea and the Mediterranean; Marseille, a multiethnic port on the Mediterranean founded as an entrepôt for Greek and Carthaginian traders in the 6th century bce; Nantes, an industrial centre and deepwater harbour along the Atlantic coast; and Bordeaux, located in southwestern France along the Garonne River. A majestic city known as the ville lumière, or “city of light,” Paris has often been remade, most famously in the mid-19th century under the command of Georges-Eugène, Baron Haussman, who was committed to Napoleon III’s vision of a modern city free of the choleric swamps and congested alleys of old, with broad avenues and a regular plan. Metropolitan Paris has now extended far beyond its ancient suburbs into the countryside, however, and nearly every French town and village now numbers a retiree or two driven from the city by the high cost of living, so that, in a sense, Paris has come to embrace the desert and the desert Paris.\\n France has also been influential in government and civil affairs, giving the world important democratic ideals in the age of the Enlightenment and the French Revolution and inspiring the growth of reformist and even revolutionary movements for generations.'}]"
      ]
     },
     "execution_count": 15,
     "metadata": {},
     "output_type": "execute_result"
    }
   ],
   "source": [
    "search_tool = TavilySearchResults(\n",
    "    max_results = 5,\n",
    "    search_depth=\"advanced\",\n",
    "    include_answer=True,\n",
    ")\n",
    "\n",
    "search_tool.invoke('What is the capital of France?')"
   ]
  },
  {
   "cell_type": "code",
   "execution_count": 16,
   "metadata": {},
   "outputs": [],
   "source": [
    "@tool\n",
    "def create_file(file_path: str, content: str):\n",
    "    \"\"\"Create a file with the given content\"\"\"\n",
    "    with open(file_path, 'w') as f:\n",
    "        f.write(content)\n",
    "    return f\"File created at {file_path} with content: {content}\"\n",
    "\n",
    "tools = [create_file, search_tool]"
   ]
  },
  {
   "cell_type": "code",
   "execution_count": 17,
   "metadata": {},
   "outputs": [
    {
     "data": {
      "text/plain": [
       "AgentExecutor(verbose=True, agent=RunnableMultiActionAgent(runnable=RunnableAssign(mapper={\n",
       "  agent_scratchpad: RunnableLambda(lambda x: message_formatter(x['intermediate_steps']))\n",
       "})\n",
       "| ChatPromptTemplate(input_variables=['agent_scratchpad', 'input'], optional_variables=['chat_history'], input_types={'chat_history': typing.List[typing.Union[langchain_core.messages.ai.AIMessage, langchain_core.messages.human.HumanMessage, langchain_core.messages.chat.ChatMessage, langchain_core.messages.system.SystemMessage, langchain_core.messages.function.FunctionMessage, langchain_core.messages.tool.ToolMessage]], 'agent_scratchpad': typing.List[typing.Union[langchain_core.messages.ai.AIMessage, langchain_core.messages.human.HumanMessage, langchain_core.messages.chat.ChatMessage, langchain_core.messages.system.SystemMessage, langchain_core.messages.function.FunctionMessage, langchain_core.messages.tool.ToolMessage]]}, partial_variables={'chat_history': []}, metadata={'lc_hub_owner': 'hwchase17', 'lc_hub_repo': 'openai-tools-agent', 'lc_hub_commit_hash': 'c18672812789a3b9697656dd539edf0120285dcae36396d0b548ae42a4ed66f5'}, messages=[SystemMessagePromptTemplate(prompt=PromptTemplate(input_variables=[], template='You are a helpful assistant')), MessagesPlaceholder(variable_name='chat_history', optional=True), HumanMessagePromptTemplate(prompt=PromptTemplate(input_variables=['input'], template='{input}')), MessagesPlaceholder(variable_name='agent_scratchpad')])\n",
       "| RunnableBinding(bound=ChatOpenAI(client=<openai.resources.chat.completions.Completions object at 0x11605cfd0>, async_client=<openai.resources.chat.completions.AsyncCompletions object at 0x116afb550>, root_client=<openai.OpenAI object at 0x11649f010>, root_async_client=<openai.AsyncOpenAI object at 0x116d1bd50>, model_name='gpt-4o-mini', temperature=0.0, openai_api_key=SecretStr('**********'), openai_api_base='https://api.openai.com/v1', openai_proxy=''), kwargs={'tools': [{'type': 'function', 'function': {'name': 'create_file', 'description': 'Create a file with the given content', 'parameters': {'type': 'object', 'properties': {'file_path': {'type': 'string'}, 'content': {'type': 'string'}}, 'required': ['file_path', 'content']}}}, {'type': 'function', 'function': {'name': 'tavily_search_results_json', 'description': 'A search engine optimized for comprehensive, accurate, and trusted results. Useful for when you need to answer questions about current events. Input should be a search query.', 'parameters': {'type': 'object', 'properties': {'query': {'description': 'search query to look up', 'type': 'string'}}, 'required': ['query']}}}]})\n",
       "| ToolsAgentOutputParser(), input_keys_arg=[], return_keys_arg=[], stream_runnable=True), tools=[StructuredTool(name='create_file', description='Create a file with the given content', args_schema=<class 'pydantic.v1.main.create_fileSchema'>, func=<function create_file at 0x121ab6480>), TavilySearchResults(include_answer=True)])"
      ]
     },
     "execution_count": 17,
     "metadata": {},
     "output_type": "execute_result"
    }
   ],
   "source": [
    "simple_research_agent = create_tool_calling_agent(llm, tools, prompt_agent)\n",
    "\n",
    "simple_research_agent_executor = AgentExecutor(agent=simple_research_agent, tools=tools, verbose=True)\n",
    "\n",
    "simple_research_agent_executor\n"
   ]
  },
  {
   "cell_type": "code",
   "execution_count": 18,
   "metadata": {},
   "outputs": [
    {
     "name": "stdout",
     "output_type": "stream",
     "text": [
      "\n",
      "\n",
      "\u001b[1m> Entering new AgentExecutor chain...\u001b[0m\n",
      "\u001b[32;1m\u001b[1;3m\n",
      "Invoking: `tavily_search_results_json` with `{'query': 'Paris Olympics 2024 highlights'}`\n",
      "\n",
      "\n",
      "\u001b[0m\u001b[33;1m\u001b[1;3m[{'url': 'https://olympics.com/en/paris-2024/videos/list', 'content': 'Watch the latest highlights from the Paris 2024 Olympic Games, featuring all sports, ceremonies and stars. See the best moments of rugby, judo, boxing, basketball, cycling, wrestling, water polo and more.'}, {'url': 'https://olympics.com/en/paris-2024/videos/list/highlights?team=us', 'content': \"Watch the latest highlights from Paris 2024 and find out who is making headlines at the Summer Olympics (Jul 26-Aug 11, 2024). ... Olympic Games Paris 2024. The Men's Water polo Bronze Medal Match was held on 11/08/2024 at La Defense Arena, Paris. The United States of America claimed the Bronze with an 11:8 victory over Hungary. Load More Next ...\"}, {'url': 'https://www.nbcolympics.com/videos', 'content': 'Watch highlights, interviews, documentaries and more from the 2024 Paris Olympic Games.'}, {'url': 'https://www.nbc.com/paris2024?os=firetv&ref=app', 'content': 'Discover the latest Summer Olympics schedule information, live events, highlights, results and medal counts for Paris 2024.'}, {'url': 'https://www.nbcbayarea.com/paris-2024-summer-olympics/steph-curry-best-shots-usa-basketball-highlights/3622682/?os=firetv&ref=app', 'content': 'Steph Curry came into the 2024 Paris Olympics with one mission in mind: win his first gold medal.. Six games and 22 3-pointers, including 17 in the final two games, later, Curry, 36, is an Olympic ...'}]\u001b[0m\u001b[32;1m\u001b[1;3m\n",
      "Invoking: `create_file` with `{'file_path': 'report-olympics-2024.md', 'content': \"# Highlights of the Paris Olympics 2024\\n\\nThe Paris Olympics 2024, scheduled from July 26 to August 11, 2024, promises to be a spectacular event showcasing athletic excellence and cultural celebration. Here are the main highlights:\\n\\n## Key Events and Sports\\n- **Diverse Sports**: The Olympics will feature a wide range of sports including rugby, judo, boxing, basketball, cycling, wrestling, and water polo.\\n- **Men's Water Polo**: Notably, the Men's Water Polo Bronze Medal Match will take place at La Defense Arena, where the USA aims for a podium finish.\\n\\n## Star Athletes\\n- **Steph Curry**: The NBA superstar is set to compete for his first Olympic gold medal, having made headlines with his impressive performance, including 22 three-pointers in six games.\\n\\n## Viewing and Coverage\\n- **Live Events and Highlights**: Fans can catch live events, highlights, and interviews through various platforms, ensuring comprehensive coverage of the games.\\n\\n## Cultural Significance\\n- The Paris Olympics will not only focus on sports but also celebrate the rich culture and history of France, making it a unique experience for athletes and spectators alike.\\n\\nFor more detailed highlights and updates, visit the official Olympic website and other sports news platforms.\"}`\n",
      "\n",
      "\n",
      "\u001b[0m\u001b[36;1m\u001b[1;3mFile created at report-olympics-2024.md with content: # Highlights of the Paris Olympics 2024\n",
      "\n",
      "The Paris Olympics 2024, scheduled from July 26 to August 11, 2024, promises to be a spectacular event showcasing athletic excellence and cultural celebration. Here are the main highlights:\n",
      "\n",
      "## Key Events and Sports\n",
      "- **Diverse Sports**: The Olympics will feature a wide range of sports including rugby, judo, boxing, basketball, cycling, wrestling, and water polo.\n",
      "- **Men's Water Polo**: Notably, the Men's Water Polo Bronze Medal Match will take place at La Defense Arena, where the USA aims for a podium finish.\n",
      "\n",
      "## Star Athletes\n",
      "- **Steph Curry**: The NBA superstar is set to compete for his first Olympic gold medal, having made headlines with his impressive performance, including 22 three-pointers in six games.\n",
      "\n",
      "## Viewing and Coverage\n",
      "- **Live Events and Highlights**: Fans can catch live events, highlights, and interviews through various platforms, ensuring comprehensive coverage of the games.\n",
      "\n",
      "## Cultural Significance\n",
      "- The Paris Olympics will not only focus on sports but also celebrate the rich culture and history of France, making it a unique experience for athletes and spectators alike.\n",
      "\n",
      "For more detailed highlights and updates, visit the official Olympic website and other sports news platforms.\u001b[0m\u001b[32;1m\u001b[1;3mThe report on the highlights of the Paris Olympics 2024 has been successfully created and saved as `report-olympics-2024.md`. If you need any further assistance or modifications, feel free to ask!\u001b[0m\n",
      "\n",
      "\u001b[1m> Finished chain.\u001b[0m\n"
     ]
    },
    {
     "data": {
      "text/markdown": [
       "The report on the highlights of the Paris Olympics 2024 has been successfully created and saved as `report-olympics-2024.md`. If you need any further assistance or modifications, feel free to ask!"
      ],
      "text/plain": [
       "<IPython.core.display.Markdown object>"
      ]
     },
     "execution_count": 18,
     "metadata": {},
     "output_type": "execute_result"
    }
   ],
   "source": [
    "from IPython.display import Markdown\n",
    "output_report = simple_research_agent_executor.invoke({'input': 'Write a summarized report about the main highlights of the Paris Olympics 2024 and save it locally as report-olympics-2024.md'})\n",
    "\n",
    "Markdown(output_report['output'])"
   ]
  },
  {
   "cell_type": "code",
   "execution_count": 19,
   "metadata": {},
   "outputs": [
    {
     "data": {
      "text/markdown": [
       "# Highlights of the Paris Olympics 2024\n",
       "\n",
       "The Paris Olympics 2024, scheduled from July 26 to August 11, 2024, promises to be a spectacular event showcasing athletic excellence and cultural celebration. Here are the main highlights:\n",
       "\n",
       "## Key Events and Sports\n",
       "- **Diverse Sports**: The Olympics will feature a wide range of sports including rugby, judo, boxing, basketball, cycling, wrestling, and water polo.\n",
       "- **Men's Water Polo**: Notably, the Men's Water Polo Bronze Medal Match will take place at La Defense Arena, where the USA aims for a podium finish.\n",
       "\n",
       "## Star Athletes\n",
       "- **Steph Curry**: The NBA superstar is set to compete for his first Olympic gold medal, having made headlines with his impressive performance, including 22 three-pointers in six games.\n",
       "\n",
       "## Viewing and Coverage\n",
       "- **Live Events and Highlights**: Fans can catch live events, highlights, and interviews through various platforms, ensuring comprehensive coverage of the games.\n",
       "\n",
       "## Cultural Significance\n",
       "- The Paris Olympics will not only focus on sports but also celebrate the rich culture and history of France, making it a unique experience for athletes and spectators alike.\n",
       "\n",
       "For more detailed highlights and updates, visit the official Olympic website and other sports news platforms."
      ],
      "text/plain": [
       "<IPython.core.display.Markdown object>"
      ]
     },
     "execution_count": 19,
     "metadata": {},
     "output_type": "execute_result"
    }
   ],
   "source": [
    "with open('report-olympics-2024.md', 'r') as f:\n",
    "    content_report = f.read()\n",
    "    \n",
    "Markdown(content_report)"
   ]
  },
  {
   "cell_type": "code",
   "execution_count": null,
   "metadata": {},
   "outputs": [],
   "source": []
  },
  {
   "cell_type": "code",
   "execution_count": null,
   "metadata": {},
   "outputs": [],
   "source": []
  },
  {
   "cell_type": "code",
   "execution_count": null,
   "metadata": {},
   "outputs": [],
   "source": []
  },
  {
   "cell_type": "code",
   "execution_count": null,
   "metadata": {},
   "outputs": [],
   "source": []
  },
  {
   "cell_type": "code",
   "execution_count": null,
   "metadata": {},
   "outputs": [],
   "source": []
  }
 ],
 "metadata": {
  "kernelspec": {
   "display_name": "vidhya-agents",
   "language": "python",
   "name": "vidhya-agents"
  },
  "language_info": {
   "codemirror_mode": {
    "name": "ipython",
    "version": 3
   },
   "file_extension": ".py",
   "mimetype": "text/x-python",
   "name": "python",
   "nbconvert_exporter": "python",
   "pygments_lexer": "ipython3",
   "version": "3.11.9"
  }
 },
 "nbformat": 4,
 "nbformat_minor": 2
}
