{
 "cells": [
  {
   "cell_type": "markdown",
   "id": "425fb020-e864-40ce-a31f-8da40c73d14b",
   "metadata": {},
   "source": [
    "# Agentic RAG\n",
    "\n",
    "[Retrieval Agents](https://python.langchain.com/v0.2/docs/tutorials/qa_chat_history/#agents) are useful when we want to make decisions about whether to retrieve from an index.\n",
    "\n",
    "To implement a retrieval agent, we simple need to give an LLM access to a retriever tool.\n",
    "\n",
    "We can incorporate this into [LangGraph](https://langchain-ai.github.io/langgraph/)."
   ]
  },
  {
   "cell_type": "code",
   "execution_count": 28,
   "id": "50de5ce5",
   "metadata": {},
   "outputs": [],
   "source": [
    "from langchain_community.document_loaders import PyPDFLoader\n",
    "from langchain_community.vectorstores import Chroma\n",
    "from langchain_openai import OpenAIEmbeddings\n",
    "from langchain_openai import ChatOpenAI"
   ]
  },
  {
   "cell_type": "code",
   "execution_count": 30,
   "id": "b0be6ca4",
   "metadata": {},
   "outputs": [
    {
     "data": {
      "text/plain": [
       "23"
      ]
     },
     "execution_count": 30,
     "metadata": {},
     "output_type": "execute_result"
    }
   ],
   "source": [
    "file_path = './assets-resources/pdfs/human-agent-collab-problem-solving.pdf'\n",
    "\n",
    "docs = PyPDFLoader(file_path).load_and_split()\n",
    "\n",
    "len(docs)"
   ]
  },
  {
   "cell_type": "code",
   "execution_count": 31,
   "id": "5787808e",
   "metadata": {},
   "outputs": [
    {
     "data": {
      "text/plain": [
       "[Document(metadata={'source': './assets-resources/pdfs/human-agent-collab-problem-solving.pdf', 'page': 0}, page_content='Large Language Model-based Human-Agent Collaboration\\nfor Complex Task Solving\\nXueyang Feng1,2∗, Zhi-Yuan Chen1,2∗, Yujia Qin3, Yankai Lin1,2†\\nXu Chen1,2†, Zhiyuan Liu3, Ji-Rong Wen1,2\\n1Gaoling School of Artificial Intelligence, Renmin University of China, Beijing, China\\n2Beijing Key Laboratory of Big Data Management and Analysis Methods, Beijing, China\\n3Department of Computer Science and Technology, Tsinghua University, Beijing, China\\n{xueyangfeng, zhiyuanc2001, yankailin, xu.chen}@ruc.edu.cn\\nAbstract\\nIn recent developments within the research\\ncommunity, the integration of Large Language\\nModels (LLMs) in creating fully autonomous\\nagents has garnered significant interest. De-\\nspite this, LLM-based agents frequently demon-\\nstrate notable shortcomings in adjusting to dy-\\nnamic environments and fully grasping hu-\\nman needs. In this work, we introduce the\\nproblem of LLM-based human-agent collab-\\noration for complex task-solving, exploring\\ntheir synergistic potential. In addition, we pro-\\npose a Reinforcement Learning-based Human-\\nAgent Collaboration method, ReHAC . This\\napproach includes a policy model designed to\\ndetermine the most opportune stages for hu-\\nman intervention within the task-solving pro-\\ncess. We construct a human-agent collabo-\\nration dataset to train this policy model in\\nan offline reinforcement learning environment.\\nOur validation tests confirm the model’s ef-\\nfectiveness. The results demonstrate that the\\nsynergistic efforts of humans and LLM-based\\nagents significantly improve performance in\\ncomplex tasks, primarily through well-planned,\\nlimited human intervention. Datasets and code\\nare available at: https://github.com/\\nXueyangFeng/ReHAC .\\n1 Introduction\\nIn today’s increasingly complex world, humans are\\nconfronted with multifaceted tasks stemming from\\ntechnical, social, and economic domains. Solv-\\ning these complex tasks necessitates not only hu-\\nman interaction with the environment but also in-\\ntricate decision-making processes. To alleviate\\nhuman workload and enhance the automation of\\ntasks in both professional and personal spheres, re-\\nsearchers have been actively developing advanced\\ntools for human assistance (Zawacki-Richter et al.,\\n∗Equal Contribution. The order is determined by dice\\nrolling.\\n†Corresponding Authors.\\nAgent Human Env\\nAllocator EnvEnv\\n(a)\\nAct Act(b)\\n(c)Agent\\nHumanAct\\nAct\\nI need  helpFigure 1: Different Levels of Automation. (a) No au-\\ntomation: Tasks are entirely performed by humans. (b)\\nFull automation: Tasks are completely executed by\\nagents without human intervention. (c) Conditional\\nautomation: Humans are required only for specific sub-\\ntasks, without continuous monitoring.\\n2019; Amershi et al., 2019). Recently, the emer-\\ngence of Large Language Models (LLMs) such\\nas LLaMA (Touvron et al., 2023), Gemini (Team\\net al., 2023) and GPT (Brown et al., 2020; Achiam\\net al., 2023) has marked a significant milestone.\\nLLMs’ remarkable abilities in task understanding,\\nplanning, and reasoning (Zhao et al., 2023b) have\\ngiven rise to the development of LLM-based au-\\ntonomous agents (Wang et al., 2023a; Yao et al.,\\n2022; Shinn et al., 2023). These agents are de-\\nsigned to leverage the LLMs’ capabilities to assist\\nhumans in solving complex tasks autonomously.\\nThe LLMs’ capabilities enable them to effectively\\nnavigate and address the complexities encountered\\nin real-world scenarios, thereby offering substan-\\ntial support in human decision-making processes\\nof task-solving.\\nDespite the remarkable progress of LLM-based\\nagents, there remains a notable gap in their intelli-\\ngence level to handle complex and dynamic real-\\nworld tasks with human-like proficiency. This limi-\\ntation poses a significant challenge to their practi-\\ncality in real-world applications, especially in sce-arXiv:2402.12914v1  [cs.CL]  20 Feb 2024'),\n",
       " Document(metadata={'source': './assets-resources/pdfs/human-agent-collab-problem-solving.pdf', 'page': 1}, page_content='narios where high accuracy is crucial, such as the\\nlegal or financial domains. Addressing this chal-\\nlenge extends beyond just enhancing the agents’\\ncapabilities. Incorporating human intuition and\\nwisdom is equally vital for the effective manage-\\nment of these intricate and evolving tasks, offering\\na complementary approach to the limitations of\\ncurrent agent technologies.\\nIn this work, we introduce the problem of LLM-\\nbased human-agent collaboration for complex\\ntask solving , aiming to augment the capabilities of\\nLLM-based agents by integrating human intuition\\nand wisdom. The idea is analogous to the evolu-\\ntion in autonomous driving technology, which has\\nbeen categorized into varying levels of autonomy,\\nranging from no automation, conditional automa-\\ntion to full automation (Khan et al., 2022; SAE\\nInternational, 2021). Referring to this framework,\\nwe define the different levels of human-agent col-\\nlaboration, as illustrated in Figure 1. Applying\\nthis conditional automation mode to LLM-based\\nagents offers a practical path for their deployment\\nin real-world scenarios, acknowledging the current\\nlimitations in their cognitive capabilities. Instead\\nof aiming for full automation, human-agent col-\\nlaboration under the paradigm of conditional au-\\ntomation enables humans to intervene the complex\\ntask-solving when necessary, while agents handle\\nmost of the sub-tasks. This takes advantage of both\\nhuman and machine intelligence.\\nWhile advancements in LLMs significantly en-\\nhance the capacity for mutual understanding in\\nhuman-agent collaboration, several crucial chal-\\nlenges persist. These challenges include defining\\nthe division of labor between humans and agents,\\ndetermining the granularity of tool execution, man-\\naging proactive interruption, and implementing\\nmulti-level intervention. However, our research\\nspecifically focuses on scenarios where humans\\ndirectly replace agents in action. The key chal-\\nlenge we aim to address in human-agent collab-\\noration lies in determining the optimal stages for\\nhuman intervention in task-solving and minimiz-\\ning such intervention to enhance efficiency. Some\\nresearchers have made preliminary attempts, by de-\\nsigning heuristic rules or specialized prompts to\\ndetermine the stages at which agents should seek\\nhuman assistance (Cai et al., 2023; Wu et al., 2022a;\\nMehta et al., 2023; Wang et al., 2023b). However,\\nthese rule-based or prompt-driven approaches are\\nheavily reliant on specific application contexts andlack universality. They often demand a deep under-\\nstanding of the domain and substantial experience\\nfrom the designers, otherwise, suboptimal design\\nchoices can lead to reduced performance. Apart\\nfrom that, a standardized formal framework and\\nuniversally accepted paradigm for leveraging large\\nlanguage models (LLMs) in human-agent collabo-\\nration is still lacking.\\nTo overcome the aforementioned challenges, we\\npropose a Reinforcement Learning-based Human-\\nAgent Collaboration method, ReHAC , aimed at\\neffectively combining human intervention with the\\nautomation capabilities of LLM-based agents. Our\\nmethod, leveraging reinforcement learning, trains\\na policy model to dynamically identify the most\\nadvantageous moments for human input during the\\ntask-solving process. ReHAC is a learnable gen-\\neral framework that can be applied to various sce-\\nnarios and does not require additional prior knowl-\\nedge to design rules and prompts. For training\\nthis policy model, we collect a dataset compris-\\ning tasks collaboratively completed by humans and\\nLLM-based agents, utilized for the offline training\\nof the policy model. We conducted extensive ex-\\nperiments on three multi-step reasoning datasets:\\nHotpotQA, StrategyQA, and InterCode, using two\\npopular LLM-based agent frameworks, ReAct and\\n\"Try-again\". The experimental results indicate that\\nwith a policy model learned from limited data, Re-\\nHAC can effectively allocate human intervention\\nin human-agent collaboration scenarios, thereby'),\n",
       " Document(metadata={'source': './assets-resources/pdfs/human-agent-collab-problem-solving.pdf', 'page': 1}, page_content='\"Try-again\". The experimental results indicate that\\nwith a policy model learned from limited data, Re-\\nHAC can effectively allocate human intervention\\nin human-agent collaboration scenarios, thereby\\nachieving a balance between effectiveness and effi-\\nciency.\\n2 Approach\\nIn this section, we first formulate the problem\\nof human-agent collaboration for complex task\\nsolving, and then introduce our proposed ReHAC\\nmethod in detail.\\n2.1 Preliminary and Problem Formulation\\nComplex task-solving, inherently necessitating\\nmulti-step planning and reasoning, is convention-\\nally formalized as a multi-step decision-making\\nproblem. Historically, complex task-solving was\\npredominantly achieved through human-driven\\nmethods . These methods leveraged human cogni-\\ntive capabilities to determine the suitable action in\\neach step. Formally, considering a complex task\\nq, it is traditionally solved via a sequence of ac-\\ntions (a1, a2,···an), with each action determined'),\n",
       " Document(metadata={'source': './assets-resources/pdfs/human-agent-collab-problem-solving.pdf', 'page': 2}, page_content='by human decision-making, expressed as:\\nat=Human (q, st), (1)\\nwhere st= (a1, o1,···, at−1, ot−1)denotes the\\nhistory information of task state at step tandotis\\nthe observation after at−1is proceeded.\\nThe advent of LLMs has brought a paradigm\\nshift in this arena. Their impressive understand-\\ning and reasoning abilities have prompted research\\ninto LLM-based agents for complex task-solving,\\nthereby enhancing the level of automation in task-\\nsolving. These agent-driven methods (e.g., Re-\\nAct (Yao et al., 2022)), leverage LLM-based agents\\nto supplant human decision-making. This shift is\\nrepresented as:\\nat=Agent (q, st). (2)\\nThis evolution of such AI-driven techniques pro-\\nvides a way to the automation of complex task-\\nsolving.\\nHowever, limited by the current intelligence\\nlevel of LLMs, full automation based on agent-\\ndriven methods is not yet feasible in practical sce-\\nnarios (Kiseleva et al., 2022; Mehta et al., 2023).\\nInspired by autonomous driving (Cui et al., 2024;\\nFu et al., 2024; Bastola et al., 2024), we propose\\nthe problem of LLM-based human-agent collab-\\noration for complex task solving and explore the\\ndynamics and efficacy of the human-agent collab-\\norative methods for complex task solving. We\\nfirst explore a specific form of human-agent col-\\nlaboration: humans intervene in the complex task-\\nsolving process when necessary. Formally, we need\\nto determine whether a human or an agent makes\\ndecisions based on the actions’ complexity and\\ncontextual changes, i.e.,\\nat=Human (q, st)or Agent (q, st),(3)\\nIt is generally perceived that direct human in-\\ntervention in decision-making, particularly in real-\\nworld scenarios, incurs higher costs and diminishes\\nthe system’s automation level (Cai et al., 2023;\\nWang et al., 2023b). On the other hand, human\\nintervention plays an important role in enhancing\\ntask performance and flexibility. Therefore, the\\nobjective of human-agent collaboration is to en-\\nhance the effectiveness of complex task-solving\\nwith minimal reliance on human decision-making.\\nOne key challenge is to determine the stages in\\nthe task-solving process where human interven-\\ntion is most beneficial and effective, aligningwith the goal of minimizing human involvement\\nwhile maximizing task performance .\\n2.2 ReHAC\\nIn this work, we propose a Reinforcement learning-\\nbased Human-Agent Collaboration method, Re-\\nHAC. It formulates the human-agent collabo-\\nration problem as a Markov Decision Process\\n(MDP) framework, represented by the tuple\\n(S,A, P, R, γ ), where Sis the set of states, Ais\\nthe set of actions, P:S×A× Sis the state transi-\\ntion probabilities, Rserves as the reward function,\\nandγthe discount factor.\\nFor each action at∈ A, we define it as a tuple\\n(acollab\\nt, atask\\nt), where acollab\\nt indicates the subtask\\nis allocated to an agent or a human, and atask\\ntis the\\ntask action determined by agent or human:\\nacollab\\nt∼πcollab\\nθ1(acollab\\nt|st)\\natask\\nt∼(\\nπtask\\nθ2(atask\\nt|st),ifacollab\\nt = 0;\\nπtask\\nHuman (atask\\nt|st),otherwise ,\\n(4)\\nwhere πcollab\\nθ1is the collaboration policy model,\\nπtask\\nθ2is the agent-based task policy model, and\\nπtask\\nHuman is the human task policy.\\nTo balance the maximization of task perfor-\\nmance and the cost of human intervention, we de-\\nfine the reward function as:\\nR(s, a) =T(s, a)−λC(s, a), (5)\\nwhere T(s, a)is the measure of expected task re-\\nwards received after taking action ain state s,\\nC(s, a)is the number of human interventions in\\nthe trajectory after taking action a,λis a hyper-\\nparameter that serves as a penalty coefficient of the\\nnumber of human interventions. We utilize Monte-\\nCarlo estimation to compute this reward function.\\nOptimization: Following the REINFORCE algo-\\nrithm (Williams, 1992), we optimize the expected\\nreward:\\nJ(πθ) =Eπθ[R(s, a)], (6)\\nwhich aims to find an optimal policy πθthat ensures\\nthe maximization of task rewards while minimizing\\nthe human intervention costs, and θ= [θ1, θ2].\\nWe utilize the advantage function to enhance the\\nstability of optimization and important sampling'),\n",
       " Document(metadata={'source': './assets-resources/pdfs/human-agent-collab-problem-solving.pdf', 'page': 3}, page_content='for offline learning:\\nA(s, a) =R(s, a)−1\\n|A|X\\na′∈AR(s, a′)\\n∇θJ(πθ) =X\\nsX\\naw(s, a)∇θlogπθ(a|s)A(s, a),\\nw(h, a) =Clip\\x12πθ(s, a)\\nπbeh(s, a)\\x13\\n, (7)\\nwhere A(s, a)is the advantage function, the clip\\nfunction limits the importance sampling term to the\\ninterval 1−ϵto1 +ϵ, and the behavior policy πbeh\\nrepresents the policy under of the offline training.\\nMoreover, we have incorporated an entropy regu-\\nlarization term. This term encourages the policy\\nto explore a variety of actions, thereby preventing\\nthe policy from becoming too deterministic and\\noverfitting to the training data. Finally, the gradient\\nof objective function is as follows:\\n∇θ˜J(πθ) =∇θJ(πθ) +α∇θH(πθ(·|s)).(8)\\n3 Experiments\\n3.1 Experimental Setup\\nDatasets Following Yao et al. (2022); Shinn et al.\\n(2023); Liu et al. (2023b); Xu et al. (2023), we eval-\\nuate the efficacy of our method on question answer-\\ning and coding datasets: (1) HotpotQA (Yang et al.,\\n2018) is a Wikipedia-based question answering\\nbenchmark which needs model to perform multi-\\nhop reasoning over complex questions. (2) Strate-\\ngyQA (Geva et al., 2021) is a question answering\\nbenchmark with questions that need implicit rea-\\nsoning. (3) InterCode (Yang et al., 2023) is an\\ninteractive coding dataset that enables agents to\\nreceive feedback from the code interpreter. In this\\nwork, we use InterCode-SQL part, which requires\\nmodels to write SQL statements to fulfil the query.\\nImplementation details We use LLaMA-2 (Tou-\\nvron et al., 2023) as the collaboration policy model\\nπcollab\\nθ1and use Low-Rank Adaptation (LoRA, Hu\\net al. (2021)) methods to train the policy model.\\nIn all experiments, we utilized ChatGPT (gpt-3.5-\\nturbo-0613) to simulate the agent policy πtask\\nθ2.\\nMore model implementation and data collection\\ndetails can be found in Appendix A.1.\\nIn this study, we set humans and agents to solve\\ntasks under the ReAct framework (Yao et al., 2022)\\nfor question-answering datasets. The action space\\nofataskis {Search[entity], Lookup[keyword], and\\nFinish[answer]}. All actions are supported by aWikipedia web API, following the original Re-\\nAct implementation. For the InterCode dataset,\\nwe solve tasks under the “Try Again” framework\\n(Yang et al., 2023). Here, agents and humans in-\\nteract with the code interpreter through the action\\natand receive execution outputs from the code\\ninterpreter as observations ot. The task-solving\\nprocess ends if any one of the following conditions\\nis satisfied: 1) the Finish[answer] action is exe-\\ncuted actively by πtask\\nθ2for the question answering\\ndataset. 2) the task reward T(s, a) = 1 for Inter-\\nCode dataset. 3) the number of actions texceeds a\\npre-defined step threshold.\\nReward Calculation For all datasets, the final\\nreward is computed as equation (5). For question\\nanswering datasets, we choose the F1 score as the\\ntask reward T(s, a). For the InterCode dataset,\\nfollowing Yang et al. (2023), we use Intersection\\nover Union as the task reward T(s, a).\\nBaselines We compare our method ReHAC with\\nthe following baselines: 1) Agent-only which car-\\nries out all actions by agents. 2) Human-only,\\nwhich conducts all actions by humans. 3) Ran-\\ndom, which selects an agent or human randomly\\nat a probability of 50% to perform each action. 4)\\nPrompt, which prompts the agent to actively decide\\nwhether the action is executed by itself or a human.\\n5) Imitation Learning (IL), which trains the pol-\\nicy model to decide whether the action should be\\nfinished by an agent or human by the IL method.\\nMore details about baselines can be found in the\\nAppendix A.2.\\n3.2 Overall Results\\nIn this section, we verify the effectiveness of our\\nproposed ReHAC method for human-agent collab-\\noration on the HotpotQA dataset.\\nHuman-Agent Experiments Figure 2(a) shows\\nthe evaluation results of human-agent collabora-\\ntion on the HotpotQA dataset. From the figure,\\nwe can observe that all human-agent collabora-\\ntion methods outperform Human-only and Agent-\\nonly methods. This underscores the importance')]"
      ]
     },
     "execution_count": 31,
     "metadata": {},
     "output_type": "execute_result"
    }
   ],
   "source": [
    "docs[0:5]"
   ]
  },
  {
   "cell_type": "code",
   "execution_count": 32,
   "id": "634a1e23",
   "metadata": {},
   "outputs": [],
   "source": [
    "vectordb = Chroma.from_documents(\n",
    "    documents=docs,\n",
    "    collection_name=\"rag-chroma\",\n",
    "    embedding=OpenAIEmbeddings()\n",
    ")\n",
    "\n",
    "retriever = vectordb.as_retriever()"
   ]
  },
  {
   "cell_type": "code",
   "execution_count": 33,
   "id": "6478c98a",
   "metadata": {},
   "outputs": [],
   "source": [
    "from langchain.tools.retriever import create_retriever_tool\n",
    "\n",
    "retriever_tool = create_retriever_tool(\n",
    "    retriever,\n",
    "    'retrieve_info_from_paper',\n",
    "    'Search and return information about a paper.')\n",
    "\n",
    "tools = [retriever_tool]"
   ]
  },
  {
   "cell_type": "code",
   "execution_count": 37,
   "id": "669e4f53",
   "metadata": {},
   "outputs": [],
   "source": [
    "from typing import Annotated, Sequence, TypedDict\n",
    "from langchain_core.messages import BaseMessage\n",
    "from langgraph.graph.message import add_messages"
   ]
  },
  {
   "cell_type": "code",
   "execution_count": 38,
   "id": "51d2a854",
   "metadata": {},
   "outputs": [],
   "source": [
    "class AgentState(TypedDict):\n",
    "    messages: Annotated[Sequence[BaseMessage], add_messages]\n",
    "\n"
   ]
  },
  {
   "cell_type": "code",
   "execution_count": 50,
   "id": "72909b07",
   "metadata": {},
   "outputs": [],
   "source": [
    "def agent(state: AgentState):\n",
    "    messages = state['messages']\n",
    "    model = ChatOpenAI(temperature=0, streaming=True, model='gpt-4o')\n",
    "    model = model.bind_tools(tools)\n",
    "    response = model.invoke(messages)\n",
    "    \n",
    "    return {'messages': [response]}\n"
   ]
  },
  {
   "cell_type": "code",
   "execution_count": 51,
   "id": "4a312901",
   "metadata": {},
   "outputs": [],
   "source": [
    "from langgraph.graph import END, StateGraph, START\n",
    "from langgraph.prebuilt import ToolNode, tools_condition\n",
    "\n",
    "# Graph initiliazation\n",
    "graph = StateGraph(AgentState)\n",
    "\n",
    "# Nodes\n",
    "graph.add_node('agent', agent)\n",
    "retrieve_node = ToolNode([retriever_tool])\n",
    "graph.add_node('retrieve', retrieve_node)\n",
    "\n",
    "# Edges\n",
    "graph.add_edge(START, 'agent')\n",
    "graph.add_conditional_edges('agent', tools_condition, {'tools': 'retrieve',END: END})\n",
    "graph.add_edge('retrieve', 'agent')\n",
    "\n",
    "compiled_graph = graph.compile()"
   ]
  },
  {
   "cell_type": "code",
   "execution_count": 52,
   "id": "44adf6c2",
   "metadata": {},
   "outputs": [
    {
     "data": {
      "image/jpeg": "[encoded data removed]",
      "text/plain": [
       "<IPython.core.display.Image object>"
      ]
     },
     "metadata": {},
     "output_type": "display_data"
    }
   ],
   "source": [
    "from IPython.display import Image, display\n",
    "\n",
    "try:\n",
    "    display(Image(compiled_graph.get_graph(xray=True).draw_mermaid_png()))\n",
    "except Exception:\n",
    "    # This requires some extra dependencies and is optional\n",
    "    pass"
   ]
  },
  {
   "cell_type": "code",
   "execution_count": 53,
   "id": "94478cf8",
   "metadata": {},
   "outputs": [
    {
     "name": "stdout",
     "output_type": "stream",
     "text": [
      "\"Output from node 'agent':\"\n",
      "'---'\n",
      "{ 'messages': [ AIMessage(content='', additional_kwargs={'tool_calls': [{'index': 0, 'id': 'call_GgtP493vqXxwhYKfIYkywKyf', 'function': {'arguments': '{\"query\":\"how do the authors set up the collaboration between the human and the LLMs?\"}', 'name': 'retrieve_info_from_paper'}, 'type': 'function'}]}, response_metadata={'finish_reason': 'tool_calls', 'model_name': 'gpt-4o-2024-05-13', 'system_fingerprint': 'fp_fde2829a40'}, id='run-9e8aab5e-c16a-457c-ad69-195ca283d046-0', tool_calls=[{'name': 'retrieve_info_from_paper', 'args': {'query': 'how do the authors set up the collaboration between the human and the LLMs?'}, 'id': 'call_GgtP493vqXxwhYKfIYkywKyf', 'type': 'tool_call'}])]}\n",
      "'\\n---\\n'\n",
      "\"Output from node 'retrieve':\"\n",
      "'---'\n",
      "{ 'messages': [ ToolMessage(content='Wu et al., 2022a; Mehta et al., 2023). Further-\\nmore, there is an increasing emphasis on develop-\\ning specialized prompts that motivate LLM-based\\nagents to proactively seek human input, thus nurtur-\\ning a more interactive and collaborative dynamic\\nin these partnerships (Huang et al., 2022; Wang\\net al., 2023b). However, the effectiveness of these\\nmethods relies on designing high-quality rules or\\nprompts. This is highly dependent on the designer’s\\ndomain knowledge. Poor design may result in a sys-\\ntem that cannot accurately understand or respond to\\ncomplex task requirements. Our research focuses\\non designing a generalised and learnable method\\nthat coordinates human to effectively work with\\nLLM-based agents in the form of direct planning.\\n6 Conclusion\\nIn this paper, we propose the problem of large\\nlanguage model-based human-agent collaboration,\\ndelving into the synergy of human intuition and\\nexpertise with the computational prowess of LLM-\\nbased agents, particularly emphasizing their appli-\\ncation in intricate decision-making tasks. We intro-\\nduce a reinforcement learning-based approach for\\nhuman-agent collaboration, named ReHAC. Cen-\\ntral to ReHAC is a learnable policy model designed\\n\\nWu et al., 2022a; Mehta et al., 2023). Further-\\nmore, there is an increasing emphasis on develop-\\ning specialized prompts that motivate LLM-based\\nagents to proactively seek human input, thus nurtur-\\ning a more interactive and collaborative dynamic\\nin these partnerships (Huang et al., 2022; Wang\\net al., 2023b). However, the effectiveness of these\\nmethods relies on designing high-quality rules or\\nprompts. This is highly dependent on the designer’s\\ndomain knowledge. Poor design may result in a sys-\\ntem that cannot accurately understand or respond to\\ncomplex task requirements. Our research focuses\\non designing a generalised and learnable method\\nthat coordinates human to effectively work with\\nLLM-based agents in the form of direct planning.\\n6 Conclusion\\nIn this paper, we propose the problem of large\\nlanguage model-based human-agent collaboration,\\ndelving into the synergy of human intuition and\\nexpertise with the computational prowess of LLM-\\nbased agents, particularly emphasizing their appli-\\ncation in intricate decision-making tasks. We intro-\\nduce a reinforcement learning-based approach for\\nhuman-agent collaboration, named ReHAC. Cen-\\ntral to ReHAC is a learnable policy model designed\\n\\nnarios where high accuracy is crucial, such as the\\nlegal or financial domains. Addressing this chal-\\nlenge extends beyond just enhancing the agents’\\ncapabilities. Incorporating human intuition and\\nwisdom is equally vital for the effective manage-\\nment of these intricate and evolving tasks, offering\\na complementary approach to the limitations of\\ncurrent agent technologies.\\nIn this work, we introduce the problem of LLM-\\nbased human-agent collaboration for complex\\ntask solving , aiming to augment the capabilities of\\nLLM-based agents by integrating human intuition\\nand wisdom. The idea is analogous to the evolu-\\ntion in autonomous driving technology, which has\\nbeen categorized into varying levels of autonomy,\\nranging from no automation, conditional automa-\\ntion to full automation (Khan et al., 2022; SAE\\nInternational, 2021). Referring to this framework,\\nwe define the different levels of human-agent col-\\nlaboration, as illustrated in Figure 1. Applying\\nthis conditional automation mode to LLM-based\\nagents offers a practical path for their deployment\\nin real-world scenarios, acknowledging the current\\nlimitations in their cognitive capabilities. Instead\\nof aiming for full automation, human-agent col-\\nlaboration under the paradigm of conditional au-\\ntomation enables humans to intervene the complex\\ntask-solving when necessary, while agents handle\\nmost of the sub-tasks. This takes advantage of both\\nhuman and machine intelligence.\\nWhile advancements in LLMs significantly en-\\nhance the capacity for mutual understanding in\\nhuman-agent collaboration, several crucial chal-\\nlenges persist. These challenges include defining\\nthe division of labor between humans and agents,\\ndetermining the granularity of tool execution, man-\\naging proactive interruption, and implementing\\nmulti-level intervention. However, our research\\nspecifically focuses on scenarios where humans\\ndirectly replace agents in action. The key chal-\\nlenge we aim to address in human-agent collab-\\noration lies in determining the optimal stages for\\nhuman intervention in task-solving and minimiz-\\ning such intervention to enhance efficiency. Some\\nresearchers have made preliminary attempts, by de-\\nsigning heuristic rules or specialized prompts to\\ndetermine the stages at which agents should seek\\nhuman assistance (Cai et al., 2023; Wu et al., 2022a;\\nMehta et al., 2023; Wang et al., 2023b). However,\\nthese rule-based or prompt-driven approaches are\\nheavily reliant on specific application contexts andlack universality. They often demand a deep under-\\nstanding of the domain and substantial experience\\nfrom the designers, otherwise, suboptimal design\\nchoices can lead to reduced performance. Apart\\nfrom that, a standardized formal framework and\\nuniversally accepted paradigm for leveraging large\\nlanguage models (LLMs) in human-agent collabo-\\nration is still lacking.\\nTo overcome the aforementioned challenges, we\\npropose a Reinforcement Learning-based Human-\\nAgent Collaboration method, ReHAC , aimed at\\neffectively combining human intervention with the\\nautomation capabilities of LLM-based agents. Our\\nmethod, leveraging reinforcement learning, trains\\na policy model to dynamically identify the most\\nadvantageous moments for human input during the\\ntask-solving process. ReHAC is a learnable gen-\\neral framework that can be applied to various sce-\\nnarios and does not require additional prior knowl-\\nedge to design rules and prompts. For training\\nthis policy model, we collect a dataset compris-\\ning tasks collaboratively completed by humans and\\nLLM-based agents, utilized for the offline training\\nof the policy model. We conducted extensive ex-\\nperiments on three multi-step reasoning datasets:\\nHotpotQA, StrategyQA, and InterCode, using two\\npopular LLM-based agent frameworks, ReAct and\\n\"Try-again\". The experimental results indicate that\\nwith a policy model learned from limited data, Re-\\nHAC can effectively allocate human intervention\\nin human-agent collaboration scenarios, thereby\\n\\nnarios where high accuracy is crucial, such as the\\nlegal or financial domains. Addressing this chal-\\nlenge extends beyond just enhancing the agents’\\ncapabilities. Incorporating human intuition and\\nwisdom is equally vital for the effective manage-\\nment of these intricate and evolving tasks, offering\\na complementary approach to the limitations of\\ncurrent agent technologies.\\nIn this work, we introduce the problem of LLM-\\nbased human-agent collaboration for complex\\ntask solving , aiming to augment the capabilities of\\nLLM-based agents by integrating human intuition\\nand wisdom. The idea is analogous to the evolu-\\ntion in autonomous driving technology, which has\\nbeen categorized into varying levels of autonomy,\\nranging from no automation, conditional automa-\\ntion to full automation (Khan et al., 2022; SAE\\nInternational, 2021). Referring to this framework,\\nwe define the different levels of human-agent col-\\nlaboration, as illustrated in Figure 1. Applying\\nthis conditional automation mode to LLM-based\\nagents offers a practical path for their deployment\\nin real-world scenarios, acknowledging the current\\nlimitations in their cognitive capabilities. Instead\\nof aiming for full automation, human-agent col-\\nlaboration under the paradigm of conditional au-\\ntomation enables humans to intervene the complex\\ntask-solving when necessary, while agents handle\\nmost of the sub-tasks. This takes advantage of both\\nhuman and machine intelligence.\\nWhile advancements in LLMs significantly en-\\nhance the capacity for mutual understanding in\\nhuman-agent collaboration, several crucial chal-\\nlenges persist. These challenges include defining\\nthe division of labor between humans and agents,\\ndetermining the granularity of tool execution, man-\\naging proactive interruption, and implementing\\nmulti-level intervention. However, our research\\nspecifically focuses on scenarios where humans\\ndirectly replace agents in action. The key chal-\\nlenge we aim to address in human-agent collab-\\noration lies in determining the optimal stages for\\nhuman intervention in task-solving and minimiz-\\ning such intervention to enhance efficiency. Some\\nresearchers have made preliminary attempts, by de-\\nsigning heuristic rules or specialized prompts to\\ndetermine the stages at which agents should seek\\nhuman assistance (Cai et al., 2023; Wu et al., 2022a;\\nMehta et al., 2023; Wang et al., 2023b). However,\\nthese rule-based or prompt-driven approaches are\\nheavily reliant on specific application contexts andlack universality. They often demand a deep under-\\nstanding of the domain and substantial experience\\nfrom the designers, otherwise, suboptimal design\\nchoices can lead to reduced performance. Apart\\nfrom that, a standardized formal framework and\\nuniversally accepted paradigm for leveraging large\\nlanguage models (LLMs) in human-agent collabo-\\nration is still lacking.\\nTo overcome the aforementioned challenges, we\\npropose a Reinforcement Learning-based Human-\\nAgent Collaboration method, ReHAC , aimed at\\neffectively combining human intervention with the\\nautomation capabilities of LLM-based agents. Our\\nmethod, leveraging reinforcement learning, trains\\na policy model to dynamically identify the most\\nadvantageous moments for human input during the\\ntask-solving process. ReHAC is a learnable gen-\\neral framework that can be applied to various sce-\\nnarios and does not require additional prior knowl-\\nedge to design rules and prompts. For training\\nthis policy model, we collect a dataset compris-\\ning tasks collaboratively completed by humans and\\nLLM-based agents, utilized for the offline training\\nof the policy model. We conducted extensive ex-\\nperiments on three multi-step reasoning datasets:\\nHotpotQA, StrategyQA, and InterCode, using two\\npopular LLM-based agent frameworks, ReAct and\\n\"Try-again\". The experimental results indicate that\\nwith a policy model learned from limited data, Re-\\nHAC can effectively allocate human intervention\\nin human-agent collaboration scenarios, thereby', name='retrieve_info_from_paper', tool_call_id='call_GgtP493vqXxwhYKfIYkywKyf')]}\n",
      "'\\n---\\n'\n",
      "\"Output from node 'agent':\"\n",
      "'---'\n",
      "{ 'messages': [ AIMessage(content='The authors set up the collaboration between humans and large language models (LLMs) through a reinforcement learning-based approach called ReHAC (Reinforcement Learning-based Human-Agent Collaboration). Here are the key elements of their setup:\\n\\n1. **Reinforcement Learning Framework**: They use a reinforcement learning framework to train a policy model. This model dynamically identifies the most advantageous moments for human input during the task-solving process.\\n\\n2. **Learnable Policy Model**: The policy model is designed to be general and learnable, meaning it can be applied to various scenarios without requiring additional prior knowledge to design rules and prompts.\\n\\n3. **Dataset for Training**: They collect a dataset comprising tasks collaboratively completed by humans and LLM-based agents. This dataset is used for the offline training of the policy model.\\n\\n4. **Experiments and Evaluation**: Extensive experiments are conducted on three multi-step reasoning datasets: HotpotQA, StrategyQA, and InterCode. They use two popular LLM-based agent frameworks, ReAct and \"Try-again,\" to evaluate the effectiveness of ReHAC.\\n\\n5. **Conditional Automation**: The collaboration is set up under the paradigm of conditional automation, where humans intervene in complex task-solving when necessary, while agents handle most of the sub-tasks. This approach leverages both human and machine intelligence.\\n\\n6. **Challenges Addressed**: The method aims to overcome challenges such as defining the division of labor between humans and agents, determining the granularity of tool execution, managing proactive interruption, and implementing multi-level intervention.\\n\\nBy integrating human intuition and expertise with the computational capabilities of LLM-based agents, the authors aim to enhance the efficiency and effectiveness of human-agent collaboration in intricate decision-making tasks.', response_metadata={'finish_reason': 'stop', 'model_name': 'gpt-4o-2024-05-13', 'system_fingerprint': 'fp_157b3831f5'}, id='run-c238d790-209e-4823-bb57-95d4ba9808ae-0')]}\n",
      "'\\n---\\n'\n"
     ]
    }
   ],
   "source": [
    "import pprint\n",
    "\n",
    "inputs = {\n",
    "    \"messages\": [\n",
    "        (\"user\", \"In this paper how do the authors set up the collaboration between the human and the LLMs?\"),\n",
    "    ]\n",
    "}\n",
    "for output in compiled_graph.stream(inputs):\n",
    "    for key, value in output.items():\n",
    "        pprint.pprint(f\"Output from node '{key}':\")\n",
    "        pprint.pprint(\"---\")\n",
    "        pprint.pprint(value, indent=2, width=80, depth=None)\n",
    "    pprint.pprint(\"\\n---\\n\")"
   ]
  },
  {
   "cell_type": "code",
   "execution_count": 56,
   "id": "0ea9ed7f",
   "metadata": {},
   "outputs": [
    {
     "data": {
      "text/plain": [
       "'The framework introduced in the paper for setting up collaboration between humans and large language models (LLMs) is called **ReHAC** (Reinforcement Learning-based Human-Agent Collaboration). This method leverages reinforcement learning to dynamically identify the most advantageous moments for human input during the task-solving process.'"
      ]
     },
     "execution_count": 56,
     "metadata": {},
     "output_type": "execute_result"
    }
   ],
   "source": [
    "inputs = {\n",
    "    \"messages\": [\n",
    "        (\"user\", \"What is the name of the framework in this paper that sets up the collaboration between the human and the LLMs?\"),\n",
    "    ]\n",
    "}\n",
    "\n",
    "output = compiled_graph.invoke(inputs)\n",
    "\n",
    "output['messages'][-1].content"
   ]
  }
 ],
 "metadata": {
  "kernelspec": {
   "display_name": "vidhya-agents",
   "language": "python",
   "name": "vidhya-agents"
  },
  "language_info": {
   "codemirror_mode": {
    "name": "ipython",
    "version": 3
   },
   "file_extension": ".py",
   "mimetype": "text/x-python",
   "name": "python",
   "nbconvert_exporter": "python",
   "pygments_lexer": "ipython3",
   "version": "3.11.9"
  }
 },
 "nbformat": 4,
 "nbformat_minor": 5
}
