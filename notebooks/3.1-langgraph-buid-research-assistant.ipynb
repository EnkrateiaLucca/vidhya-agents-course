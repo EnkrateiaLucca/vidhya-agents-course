{
 "cells": [
  {
   "cell_type": "code",
   "execution_count": 1,
   "metadata": {},
   "outputs": [],
   "source": [
    "from langgraph.graph import StateGraph, MessagesState, START, END\n",
    "from langchain_openai import ChatOpenAI\n",
    "from langgraph.prebuilt import ToolNode\n",
    "from langchain_community.tools import TavilySearchResults\n",
    "from IPython.display import Image"
   ]
  },
  {
   "cell_type": "code",
   "execution_count": 2,
   "metadata": {},
   "outputs": [],
   "source": [
    "llm = ChatOpenAI(model='gpt-4o-mini', temperature=0)"
   ]
  },
  {
   "cell_type": "code",
   "execution_count": 3,
   "metadata": {},
   "outputs": [],
   "source": [
    "def should_continue(state: MessagesState) -> bool:\n",
    "    messages = state['messages']\n",
    "    last_message = messages[-1]\n",
    "    if last_message.tool_calls:\n",
    "        return 'tools'\n",
    "    else:\n",
    "        return END\n",
    "\n"
   ]
  },
  {
   "cell_type": "code",
   "execution_count": 4,
   "metadata": {},
   "outputs": [],
   "source": [
    "def call_model(state: MessagesState):\n",
    "    messages  = state['messages']\n",
    "    response = llm.invoke(messages)\n",
    "    \n",
    "    return {'messages': messages + [response]}"
   ]
  },
  {
   "cell_type": "code",
   "execution_count": 5,
   "metadata": {},
   "outputs": [],
   "source": [
    "graph = StateGraph(MessagesState)"
   ]
  },
  {
   "cell_type": "code",
   "execution_count": 6,
   "metadata": {},
   "outputs": [],
   "source": [
    "graph.add_node('agent', call_model)"
   ]
  },
  {
   "cell_type": "code",
   "execution_count": 7,
   "metadata": {},
   "outputs": [],
   "source": [
    "search_tool = TavilySearchResults(max_results=5)"
   ]
  },
  {
   "cell_type": "code",
   "execution_count": 9,
   "metadata": {},
   "outputs": [],
   "source": [
    "tools = [search_tool]\n",
    "\n",
    "tool_node = ToolNode(tools)\n",
    "\n",
    "graph.add_node('tools', tool_node)"
   ]
  },
  {
   "cell_type": "code",
   "execution_count": 10,
   "metadata": {},
   "outputs": [],
   "source": [
    "# This means that the first node is the agent\n",
    "# similar to setting graph.set_entry_point('agent')\n",
    "graph.add_edge(START, \"agent\")"
   ]
  },
  {
   "cell_type": "code",
   "execution_count": 11,
   "metadata": {},
   "outputs": [],
   "source": [
    "graph.add_conditional_edges('agent', should_continue)"
   ]
  },
  {
   "cell_type": "code",
   "execution_count": 12,
   "metadata": {},
   "outputs": [],
   "source": [
    "graph.add_edge('tools', 'agent')"
   ]
  },
  {
   "cell_type": "code",
   "execution_count": 13,
   "metadata": {},
   "outputs": [],
   "source": [
    "graph_compiled = graph.compile()"
   ]
  },
  {
   "cell_type": "code",
   "execution_count": 14,
   "metadata": {},
   "outputs": [
    {
     "data": {
      "image/jpeg": "[encoded data removed]",
      "text/plain": [
       "<IPython.core.display.Image object>"
      ]
     },
     "execution_count": 14,
     "metadata": {},
     "output_type": "execute_result"
    }
   ],
   "source": [
    "Image(graph_compiled.get_graph().draw_mermaid_png())"
   ]
  },
  {
   "cell_type": "code",
   "execution_count": 15,
   "metadata": {},
   "outputs": [
    {
     "data": {
      "text/plain": [
       "{'messages': [HumanMessage(content='Write a simple report on how to use AI for productivity.', id='e7c811f9-e806-4f66-a1bc-17c6c3c9a410'),\n",
       "  AIMessage(content=\"# Report on Using AI for Productivity\\n\\n## Introduction\\nArtificial Intelligence (AI) has emerged as a transformative tool that can significantly enhance productivity across various sectors. By automating repetitive tasks, providing insights through data analysis, and facilitating better decision-making, AI can help individuals and organizations work more efficiently. This report outlines practical ways to leverage AI for improved productivity.\\n\\n## 1. Automating Repetitive Tasks\\nOne of the most immediate benefits of AI is its ability to automate mundane and repetitive tasks. This can free up valuable time for employees to focus on more strategic activities.\\n\\n### Examples:\\n- **Email Management**: AI-powered tools can sort, prioritize, and respond to emails, reducing the time spent on inbox management.\\n- **Data Entry**: AI can automate data entry processes, minimizing human error and speeding up workflows.\\n- **Scheduling**: AI scheduling assistants can coordinate meetings by finding suitable times for all participants, eliminating back-and-forth communication.\\n\\n## 2. Enhancing Decision-Making\\nAI can analyze vast amounts of data quickly and provide actionable insights, enabling better decision-making.\\n\\n### Examples:\\n- **Predictive Analytics**: AI can analyze historical data to forecast trends, helping businesses make informed decisions about inventory, marketing strategies, and resource allocation.\\n- **Business Intelligence Tools**: AI-driven analytics platforms can visualize data and generate reports, making it easier for teams to understand performance metrics and KPIs.\\n\\n## 3. Improving Communication and Collaboration\\nAI tools can enhance communication and collaboration within teams, especially in remote work environments.\\n\\n### Examples:\\n- **Chatbots**: AI chatbots can provide instant responses to common queries, improving customer service and internal communication.\\n- **Collaboration Platforms**: AI features in tools like Slack or Microsoft Teams can summarize conversations, highlight important messages, and suggest relevant documents.\\n\\n## 4. Personalizing Workflows\\nAI can help tailor workflows to individual preferences and needs, increasing engagement and efficiency.\\n\\n### Examples:\\n- **Task Management**: AI can prioritize tasks based on deadlines, importance, and user behavior, helping individuals focus on what matters most.\\n- **Learning and Development**: AI-driven platforms can recommend training resources based on an employee's skills and career goals, fostering continuous learning.\\n\\n## 5. Enhancing Creativity\\nAI can also serve as a creative partner, providing inspiration and generating ideas.\\n\\n### Examples:\\n- **Content Creation**: AI tools can assist in writing articles, generating marketing copy, or creating social media posts, allowing teams to produce content more quickly.\\n- **Design Assistance**: AI design tools can suggest layouts, color schemes, and design elements, streamlining the creative process.\\n\\n## Conclusion\\nThe integration of AI into daily workflows can lead to significant productivity gains for individuals and organizations. By automating repetitive tasks, enhancing decision-making, improving communication, personalizing workflows, and fostering creativity, AI can help teams work smarter, not harder. As technology continues to evolve, embracing AI will be essential for staying competitive in an increasingly fast-paced world.\\n\\n## Recommendations\\n- **Identify Key Areas for Automation**: Assess current workflows to identify tasks that can be automated using AI.\\n- **Invest in AI Tools**: Explore AI-powered tools that align with your organization’s needs and goals.\\n- **Train Employees**: Provide training on how to effectively use AI tools to maximize their potential.\\n- **Monitor and Evaluate**: Continuously assess the impact of AI on productivity and make adjustments as necessary.\\n\\nBy strategically implementing AI, organizations can unlock new levels of productivity and innovation.\", additional_kwargs={'refusal': None}, response_metadata={'token_usage': {'completion_tokens': 711, 'prompt_tokens': 19, 'total_tokens': 730}, 'model_name': 'gpt-4o-mini-2024-07-18', 'system_fingerprint': 'fp_f33667828e', 'finish_reason': 'stop', 'logprobs': None}, id='run-670dbe8c-5ba6-42dc-a376-b0a6cc4e1393-0', usage_metadata={'input_tokens': 19, 'output_tokens': 711, 'total_tokens': 730})]}"
      ]
     },
     "execution_count": 15,
     "metadata": {},
     "output_type": "execute_result"
    }
   ],
   "source": [
    "output = graph_compiled.invoke({'messages': [\n",
    "    ('user', 'Write a simple report on how to use AI for productivity.')\n",
    "]})\n",
    "\n",
    "output"
   ]
  },
  {
   "cell_type": "code",
   "execution_count": 17,
   "metadata": {},
   "outputs": [
    {
     "data": {
      "text/markdown": [
       "# Report on Using AI for Productivity\n",
       "\n",
       "## Introduction\n",
       "Artificial Intelligence (AI) has emerged as a transformative tool that can significantly enhance productivity across various sectors. By automating repetitive tasks, providing insights through data analysis, and facilitating better decision-making, AI can help individuals and organizations work more efficiently. This report outlines practical ways to leverage AI for improved productivity.\n",
       "\n",
       "## 1. Automating Repetitive Tasks\n",
       "One of the most immediate benefits of AI is its ability to automate mundane and repetitive tasks. This can free up valuable time for employees to focus on more strategic activities.\n",
       "\n",
       "### Examples:\n",
       "- **Email Management**: AI-powered tools can sort, prioritize, and respond to emails, reducing the time spent on inbox management.\n",
       "- **Data Entry**: AI can automate data entry processes, minimizing human error and speeding up workflows.\n",
       "- **Scheduling**: AI scheduling assistants can coordinate meetings by finding suitable times for all participants, eliminating back-and-forth communication.\n",
       "\n",
       "## 2. Enhancing Decision-Making\n",
       "AI can analyze vast amounts of data quickly and provide actionable insights, enabling better decision-making.\n",
       "\n",
       "### Examples:\n",
       "- **Predictive Analytics**: AI can analyze historical data to forecast trends, helping businesses make informed decisions about inventory, marketing strategies, and resource allocation.\n",
       "- **Business Intelligence Tools**: AI-driven analytics platforms can visualize data and generate reports, making it easier for teams to understand performance metrics and KPIs.\n",
       "\n",
       "## 3. Improving Communication and Collaboration\n",
       "AI tools can enhance communication and collaboration within teams, especially in remote work environments.\n",
       "\n",
       "### Examples:\n",
       "- **Chatbots**: AI chatbots can provide instant responses to common queries, improving customer service and internal communication.\n",
       "- **Collaboration Platforms**: AI features in tools like Slack or Microsoft Teams can summarize conversations, highlight important messages, and suggest relevant documents.\n",
       "\n",
       "## 4. Personalizing Workflows\n",
       "AI can help tailor workflows to individual preferences and needs, increasing engagement and efficiency.\n",
       "\n",
       "### Examples:\n",
       "- **Task Management**: AI can prioritize tasks based on deadlines, importance, and user behavior, helping individuals focus on what matters most.\n",
       "- **Learning and Development**: AI-driven platforms can recommend training resources based on an employee's skills and career goals, fostering continuous learning.\n",
       "\n",
       "## 5. Enhancing Creativity\n",
       "AI can also serve as a creative partner, providing inspiration and generating ideas.\n",
       "\n",
       "### Examples:\n",
       "- **Content Creation**: AI tools can assist in writing articles, generating marketing copy, or creating social media posts, allowing teams to produce content more quickly.\n",
       "- **Design Assistance**: AI design tools can suggest layouts, color schemes, and design elements, streamlining the creative process.\n",
       "\n",
       "## Conclusion\n",
       "The integration of AI into daily workflows can lead to significant productivity gains for individuals and organizations. By automating repetitive tasks, enhancing decision-making, improving communication, personalizing workflows, and fostering creativity, AI can help teams work smarter, not harder. As technology continues to evolve, embracing AI will be essential for staying competitive in an increasingly fast-paced world.\n",
       "\n",
       "## Recommendations\n",
       "- **Identify Key Areas for Automation**: Assess current workflows to identify tasks that can be automated using AI.\n",
       "- **Invest in AI Tools**: Explore AI-powered tools that align with your organization’s needs and goals.\n",
       "- **Train Employees**: Provide training on how to effectively use AI tools to maximize their potential.\n",
       "- **Monitor and Evaluate**: Continuously assess the impact of AI on productivity and make adjustments as necessary.\n",
       "\n",
       "By strategically implementing AI, organizations can unlock new levels of productivity and innovation."
      ],
      "text/plain": [
       "<IPython.core.display.Markdown object>"
      ]
     },
     "execution_count": 17,
     "metadata": {},
     "output_type": "execute_result"
    }
   ],
   "source": [
    "from IPython.display import Markdown\n",
    "\n",
    "Markdown(output['messages'][-1].content)"
   ]
  },
  {
   "cell_type": "code",
   "execution_count": null,
   "metadata": {},
   "outputs": [],
   "source": []
  }
 ],
 "metadata": {
  "kernelspec": {
   "display_name": "vidhya-agents",
   "language": "python",
   "name": "vidhya-agents"
  },
  "language_info": {
   "codemirror_mode": {
    "name": "ipython",
    "version": 3
   },
   "file_extension": ".py",
   "mimetype": "text/x-python",
   "name": "python",
   "nbconvert_exporter": "python",
   "pygments_lexer": "ipython3",
   "version": "3.11.9"
  }
 },
 "nbformat": 4,
 "nbformat_minor": 2
}
