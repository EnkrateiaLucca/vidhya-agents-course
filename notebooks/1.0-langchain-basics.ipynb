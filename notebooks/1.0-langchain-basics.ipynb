{
 "cells": [
  {
   "cell_type": "markdown",
   "metadata": {},
   "source": [
    "3 basic components:\n",
    "\n",
    "1. Model - abstractions over the LLMs apis\n",
    "2. Prompt Template - abstraction over the prompt sent to the model\n",
    "3. Output parser - abstraction to translate raw output from the model to workable format"
   ]
  },
  {
   "cell_type": "code",
   "execution_count": null,
   "metadata": {},
   "outputs": [],
   "source": [
    "!pip install -U langchain langchain-openai langchain-core"
   ]
  },
  {
   "cell_type": "code",
   "execution_count": null,
   "metadata": {},
   "outputs": [],
   "source": [
    "import os\n",
    "\n",
    "os.environ['OPENAI_API_KEY'] = 'YOUR API KEY'"
   ]
  },
  {
   "cell_type": "code",
   "execution_count": 1,
   "metadata": {},
   "outputs": [],
   "source": [
    "from langchain_openai import ChatOpenAI"
   ]
  },
  {
   "cell_type": "code",
   "execution_count": 2,
   "metadata": {},
   "outputs": [
    {
     "data": {
      "text/plain": [
       "AIMessage(content=\"Sure! Here are some basic components of LangChain:\\n\\n- **Chains**: These are sequences of calls to various components (like models, APIs, or databases) that process input and produce output.\\n\\n- **Agents**: These are more dynamic components that can make decisions about which actions to take based on the input they receive, often incorporating tools or models.\\n\\n- **Tools**: These are specific functions or services that can be called by agents or chains to perform tasks, such as querying a database, calling an API, or executing a specific function.\\n\\n- **Memory**: This component allows chains or agents to retain information across interactions, enabling them to provide more contextually relevant responses.\\n\\n- **Prompts**: Templates used to structure input for language models. They can include user instructions, context, or examples to guide the model's responses.\\n\\n- **Vector Stores**: These are used for storing and retrieving embeddings, enabling semantic search capabilities and efficient similarity matching.\\n\\nThese components work together to create robust applications that leverage language models in various contexts.\", additional_kwargs={'refusal': None}, response_metadata={'token_usage': {'completion_tokens': 210, 'prompt_tokens': 35, 'total_tokens': 245}, 'model_name': 'gpt-4o-mini-2024-07-18', 'system_fingerprint': 'fp_f905cf32a9', 'finish_reason': 'stop', 'logprobs': None}, id='run-632ec7cb-3469-4612-a680-400eac715807-0', usage_metadata={'input_tokens': 35, 'output_tokens': 210, 'total_tokens': 245})"
      ]
     },
     "execution_count": 2,
     "metadata": {},
     "output_type": "execute_result"
    }
   ],
   "source": [
    "llm = ChatOpenAI(model='gpt-4o-mini')\n",
    "\n",
    "llm.invoke(\"Hi! I am teaching about langcahin! What are some of the basic components in LangChain? Answer with a few bullet points.\")"
   ]
  },
  {
   "cell_type": "code",
   "execution_count": 3,
   "metadata": {},
   "outputs": [],
   "source": [
    "from langchain_core.prompts import ChatPromptTemplate"
   ]
  },
  {
   "cell_type": "code",
   "execution_count": 4,
   "metadata": {},
   "outputs": [
    {
     "data": {
      "text/plain": [
       "'Human: Give me 5 examples of: basic components in LangChain'"
      ]
     },
     "execution_count": 4,
     "metadata": {},
     "output_type": "execute_result"
    }
   ],
   "source": [
    "prompt = ChatPromptTemplate.from_template(\"Give me 5 examples of: {thing_to_give_examples_of}\")\n",
    "\n",
    "prompt.format(thing_to_give_examples_of=\"basic components in LangChain\")"
   ]
  },
  {
   "cell_type": "code",
   "execution_count": 5,
   "metadata": {},
   "outputs": [],
   "source": [
    "basic_chain = prompt | llm"
   ]
  },
  {
   "cell_type": "code",
   "execution_count": 6,
   "metadata": {},
   "outputs": [
    {
     "data": {
      "text/plain": [
       "AIMessage(content=\"LangChain is a framework designed to facilitate the development of applications using language models. Here are five basic components commonly found in LangChain:\\n\\n1. **LLMs (Language Learning Models)**: These are the core models used to generate text or respond to queries. LangChain supports various models, such as OpenAI's GPT, Hugging Face Transformers, and other APIs, allowing developers to choose the right model for their application.\\n\\n2. **Chains**: Chains are sequences of operations or steps that define how inputs are processed and how outputs are generated. They can combine multiple components (like LLMs, prompts, or memory) to create more complex workflows.\\n\\n3. **Prompts**: Prompts are the instructions or queries given to the language model. LangChain allows developers to create dynamic and customizable prompts, which can be adjusted based on the context or user input to improve the relevance of the model's responses.\\n\\n4. **Agents**: Agents are components that can take user input, decide on actions based on that input, and call various tools or chains as needed. They are designed to handle more complex interactions, making decisions about which models or chains to use based on the context.\\n\\n5. **Memory**: Memory components allow applications to remember previous interactions or states. This can help maintain context across multiple user interactions, making the application more responsive and personalized.\\n\\nThese components work together to enable developers to build sophisticated applications that leverage the capabilities of language models.\", additional_kwargs={'refusal': None}, response_metadata={'token_usage': {'completion_tokens': 293, 'prompt_tokens': 19, 'total_tokens': 312}, 'model_name': 'gpt-4o-mini-2024-07-18', 'system_fingerprint': 'fp_f905cf32a9', 'finish_reason': 'stop', 'logprobs': None}, id='run-c5418366-bdb1-4ec2-bfad-baf2c29f6a77-0', usage_metadata={'input_tokens': 19, 'output_tokens': 293, 'total_tokens': 312})"
      ]
     },
     "execution_count": 6,
     "metadata": {},
     "output_type": "execute_result"
    }
   ],
   "source": [
    "basic_chain.invoke({\"thing_to_give_examples_of\": \"basic components in LangChain\"})"
   ]
  },
  {
   "cell_type": "code",
   "execution_count": 7,
   "metadata": {},
   "outputs": [],
   "source": [
    "from langchain_core.output_parsers import StrOutputParser"
   ]
  },
  {
   "cell_type": "code",
   "execution_count": 8,
   "metadata": {},
   "outputs": [
    {
     "data": {
      "text/plain": [
       "\"Sure! Here are five examples of funny animals known for their amusing behaviors or appearances:\\n\\n1. **Capybaras**: These large rodents are known for their calm demeanor and social behavior. Their interactions with other animals, like lounging with ducks or monkeys, often make for hilarious moments.\\n\\n2. **Dogs in Costumes**: Many dogs dressed in funny outfits can bring a smile to anyone's face. From superhero capes to dinosaur suits, their antics while wearing costumes often lead to laughter.\\n\\n3. **Cats in Boxes**: Cats have a well-known obsession with fitting into boxes, regardless of size. Their attempts to squeeze into small spaces and the bewildered expressions they make can be quite humorous.\\n\\n4. **Penguins**: Their waddling gait and social interactions can be quite comical. Watching them slide on ice or engage in playful behavior adds to their charm and humor.\\n\\n5. **Llamas**: Known for their quirky expressions and spitting habits, llamas can often be seen making funny faces or interacting with people and other animals in amusing ways.\\n\\nThese animals often provide a great source of entertainment and joy!\""
      ]
     },
     "execution_count": 8,
     "metadata": {},
     "output_type": "execute_result"
    }
   ],
   "source": [
    "output_parser = StrOutputParser()\n",
    "\n",
    "complete_chain = prompt | llm | output_parser\n",
    "\n",
    "complete_chain.invoke({'thing_to_give_examples_of': 'Funny animals'})"
   ]
  },
  {
   "cell_type": "code",
   "execution_count": null,
   "metadata": {},
   "outputs": [],
   "source": []
  },
  {
   "cell_type": "code",
   "execution_count": null,
   "metadata": {},
   "outputs": [],
   "source": []
  },
  {
   "cell_type": "code",
   "execution_count": null,
   "metadata": {},
   "outputs": [],
   "source": []
  },
  {
   "cell_type": "code",
   "execution_count": null,
   "metadata": {},
   "outputs": [],
   "source": []
  },
  {
   "cell_type": "code",
   "execution_count": null,
   "metadata": {},
   "outputs": [],
   "source": []
  },
  {
   "cell_type": "code",
   "execution_count": null,
   "metadata": {},
   "outputs": [],
   "source": []
  }
 ],
 "metadata": {
  "kernelspec": {
   "display_name": "vidhya-agents",
   "language": "python",
   "name": "vidhya-agents"
  },
  "language_info": {
   "codemirror_mode": {
    "name": "ipython",
    "version": 3
   },
   "file_extension": ".py",
   "mimetype": "text/x-python",
   "name": "python",
   "nbconvert_exporter": "python",
   "pygments_lexer": "ipython3",
   "version": "3.11.9"
  }
 },
 "nbformat": 4,
 "nbformat_minor": 2
}
